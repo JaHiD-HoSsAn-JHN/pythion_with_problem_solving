{
 "cells": [
  {
   "cell_type": "markdown",
   "id": "893ab9e6",
   "metadata": {},
   "source": [
    "# Write a program to calculate the sum of two numbers.\n"
   ]
  },
  {
   "cell_type": "code",
   "execution_count": 1,
   "id": "b8528c30",
   "metadata": {},
   "outputs": [
    {
     "name": "stdout",
     "output_type": "stream",
     "text": [
      "Enter the first number: 29\n",
      "Enter the second number: 123\n",
      "the result is: 152\n"
     ]
    }
   ],
   "source": [
    "# just for int value if you input any float value, you will get error\n",
    "num1 = int(input(\"Enter the first number: \"))\n",
    "num2 = int(input(\"Enter the second number: \"))\n",
    "\n",
    "result = num1 + num2\n",
    "print( \"the result is:\",result)"
   ]
  },
  {
   "cell_type": "code",
   "execution_count": 2,
   "id": "67c815ae",
   "metadata": {},
   "outputs": [
    {
     "name": "stdout",
     "output_type": "stream",
     "text": [
      "Enter the first number: 23\n",
      "Enter the second number: 232\n",
      "The sum of 23.0 and 232.0 is: 255.0\n"
     ]
    }
   ],
   "source": [
    "# for float and int bouth value, you can use any number value\n",
    "num1 = float(input(\"Enter the first number: \"))\n",
    "num2 = float(input(\"Enter the second number: \"))\n",
    "\n",
    "result = num1 + num2\n",
    "print(\"The sum of\", num1, \"and\", num2, \"is:\", result)"
   ]
  },
  {
   "cell_type": "markdown",
   "id": "2c3a9daa",
   "metadata": {},
   "source": [
    "# with function "
   ]
  },
  {
   "cell_type": "code",
   "execution_count": 3,
   "id": "432ade7a",
   "metadata": {},
   "outputs": [
    {
     "name": "stdout",
     "output_type": "stream",
     "text": [
      "Enter the first number: 33\n",
      "Enter the second number: 34\n",
      "The sum of 33.0 and 34.0 is: 67.0\n"
     ]
    }
   ],
   "source": [
    "# Creat function\n",
    "def calculate_sum(a, b):\n",
    "    return a + b\n",
    "\n",
    "# input data form user\n",
    "num1 = float(input(\"Enter the first number: \"))\n",
    "num2 = float(input(\"Enter the second number: \"))\n",
    "\n",
    "result = calculate_sum(num1, num2)\n",
    "print(\"The sum of\", num1, \"and\", num2, \"is:\", result)"
   ]
  },
  {
   "cell_type": "markdown",
   "id": "701b01e5",
   "metadata": {},
   "source": [
    "# without input from user"
   ]
  },
  {
   "cell_type": "code",
   "execution_count": 4,
   "id": "2336f01f",
   "metadata": {},
   "outputs": [
    {
     "name": "stdout",
     "output_type": "stream",
     "text": [
      "the result is 30\n"
     ]
    }
   ],
   "source": [
    "\n",
    "num1 = int(10)\n",
    "num2 = int(20)\n",
    "\n",
    "result = num1+ num2\n",
    "print(\"the result is\", result)"
   ]
  },
  {
   "cell_type": "code",
   "execution_count": 5,
   "id": "fa0c2f06",
   "metadata": {},
   "outputs": [
    {
     "name": "stdout",
     "output_type": "stream",
     "text": [
      "The result is: 30\n"
     ]
    }
   ],
   "source": [
    "# Create function\n",
    "def calculate_sum():\n",
    "    # Input data from user\n",
    "    num1 = float(10)\n",
    "    num2 = float(10.3)\n",
    "\n",
    "    result = calculate_sum(num1 + num1)\n",
    "\n",
    "print(\"The result is:\", result)\n"
   ]
  },
  {
   "cell_type": "code",
   "execution_count": 6,
   "id": "97dcc014",
   "metadata": {},
   "outputs": [
    {
     "name": "stdout",
     "output_type": "stream",
     "text": [
      "the result is 40.4\n"
     ]
    }
   ],
   "source": [
    "#you also use any numbe\n",
    "num1 = 20.4\n",
    "num2 = 20\n",
    "\n",
    "result = (num1+ num2)\n",
    "print(\"the result is\", result)"
   ]
  },
  {
   "cell_type": "markdown",
   "id": "a3cd9bad",
   "metadata": {},
   "source": [
    "# Write a program to find the average of three numbers."
   ]
  },
  {
   "cell_type": "code",
   "execution_count": 7,
   "id": "7004f03c",
   "metadata": {},
   "outputs": [
    {
     "name": "stdout",
     "output_type": "stream",
     "text": [
      "the everage value is: 23.75\n"
     ]
    }
   ],
   "source": [
    "#for example you can take multiple number\n",
    "a = 10\n",
    "b = 20\n",
    "c = 30\n",
    "d = 35\n",
    "#now input these variable into one variable\n",
    "total = a + b + c+ d \n",
    "#you have to use a paramiter that is average for this soluation\n",
    "average = total / 4\n",
    "print(\"the everage value is:\", average)\n"
   ]
  },
  {
   "cell_type": "code",
   "execution_count": 8,
   "id": "817eba1f",
   "metadata": {},
   "outputs": [
    {
     "name": "stdout",
     "output_type": "stream",
     "text": [
      "the everage value is: 23.75\n"
     ]
    }
   ],
   "source": [
    "#for example you can take multiple number\n",
    "a = 10\n",
    "b = 20\n",
    "c = 30\n",
    "d = 35\n",
    "#you have to use a paramiter that is average for this soluation\n",
    "average = (a+b+c+d) / 4\n",
    "print(\"the everage value is:\", average)"
   ]
  },
  {
   "cell_type": "code",
   "execution_count": 9,
   "id": "76e912a2",
   "metadata": {},
   "outputs": [
    {
     "name": "stdout",
     "output_type": "stream",
     "text": [
      "The average is: 20.0\n"
     ]
    }
   ],
   "source": [
    "def calculate_average(a, b, c):\n",
    "    total = a + b + c\n",
    "    average = total / 3\n",
    "    return average\n",
    "    # Example usage\n",
    "    #these are local scope\n",
    "    a = 10\n",
    "    b = 34\n",
    "    c = 39\n",
    "\n",
    "result = calculate_average(a, b, c)\n",
    "print(\"The average is:\", result)\n"
   ]
  },
  {
   "cell_type": "code",
   "execution_count": 10,
   "id": "1c423332",
   "metadata": {},
   "outputs": [
    {
     "name": "stdout",
     "output_type": "stream",
     "text": [
      "The average is: 27.666666666666668\n"
     ]
    }
   ],
   "source": [
    " # Example usage\n",
    "#these are global scope\n",
    "a = 10\n",
    "b = 34\n",
    "c = 39\n",
    "\n",
    "def calculate_average(a, b, c):\n",
    "    total = a + b + c\n",
    "    average = total / 3\n",
    "    return average\n",
    "\n",
    "result = calculate_average(a, b, c)\n",
    "print(\"The average is:\", result)\n"
   ]
  },
  {
   "cell_type": "markdown",
   "id": "f83d7fa2",
   "metadata": {},
   "source": [
    "# input data from user"
   ]
  },
  {
   "cell_type": "code",
   "execution_count": 11,
   "id": "a406bad6",
   "metadata": {},
   "outputs": [
    {
     "name": "stdout",
     "output_type": "stream",
     "text": [
      "Enter the first number: 34\n",
      "Enter the second number: 23\n",
      "Enter the third number: 545\n",
      "Enter the fourth number: 343\n",
      "The average is: 200.66666666666666\n"
     ]
    }
   ],
   "source": [
    "\n",
    "# for float and int bouth value, you can use any number value\n",
    "a = float(input(\"Enter the first number: \"))\n",
    "b = float(input(\"Enter the second number: \"))\n",
    "c = float(input(\"Enter the third number: \"))\n",
    "d = float(input(\"Enter the fourth number: \"))\n",
    "def calculate_average(a, b, c):\n",
    "    total = a + b + c\n",
    "    average = total / 3\n",
    "    return average\n",
    "\n",
    "result = calculate_average(a, b, c)\n",
    "print(\"The average is:\", result)"
   ]
  },
  {
   "cell_type": "markdown",
   "id": "16c1f676",
   "metadata": {},
   "source": [
    "# Write a program to check if a given number is even or odd"
   ]
  },
  {
   "cell_type": "code",
   "execution_count": 12,
   "id": "840f5d9d",
   "metadata": {},
   "outputs": [
    {
     "name": "stdout",
     "output_type": "stream",
     "text": [
      "Enter the first number: 23\n",
      "The number is: Odd\n"
     ]
    }
   ],
   "source": [
    "def check_even_odd(number):\n",
    "    if number % 2 == 0:\n",
    "        return \"Even\"\n",
    "    else:\n",
    "        return \"Odd\"\n",
    "\n",
    "# Example usage\n",
    "num = float(input(\"Enter the first number: \"))\n",
    "\n",
    "result = check_even_odd(num)\n",
    "print(\"The number is:\", result)\n"
   ]
  },
  {
   "cell_type": "markdown",
   "id": "9ebd4c35",
   "metadata": {},
   "source": [
    "# without function"
   ]
  },
  {
   "cell_type": "code",
   "execution_count": 13,
   "id": "266b6184",
   "metadata": {},
   "outputs": [
    {
     "name": "stdout",
     "output_type": "stream",
     "text": [
      "Enter a number: 23\n",
      "The number is odd.\n"
     ]
    }
   ],
   "source": [
    "num = int(input(\"Enter a number: \"))\n",
    "\n",
    "if num % 2 == 0:\n",
    "    print(\"The number is even.\")\n",
    "else:\n",
    "    print(\"The number is odd.\")"
   ]
  },
  {
   "cell_type": "markdown",
   "id": "76b7b1f2",
   "metadata": {},
   "source": [
    "# Write a program to find the maximum number among three given numbers."
   ]
  },
  {
   "cell_type": "code",
   "execution_count": 16,
   "id": "43ab5691",
   "metadata": {},
   "outputs": [
    {
     "name": "stdout",
     "output_type": "stream",
     "text": [
      "Enter the first number: 40\n",
      "Enter the second number: 60\n",
      "Enter the third number: 33\n",
      "The maximum number is: 60.0\n"
     ]
    }
   ],
   "source": [
    "#global scope\n",
    "def find_maximum(num1, num2, num3):\n",
    "    maximum = max(num1, num2, num3)\n",
    "    return maximum\n",
    "\n",
    "# Example usage\n",
    "num1 = float(input(\"Enter the first number: \"))\n",
    "num2 = float(input(\"Enter the second number: \"))\n",
    "num3 = float(input(\"Enter the third number: \"))\n",
    "\n",
    "result = find_maximum(num1, num2, num3)\n",
    "print(\"The maximum number is:\", result)\n"
   ]
  },
  {
   "cell_type": "code",
   "execution_count": 17,
   "id": "4ed3b15d",
   "metadata": {},
   "outputs": [
    {
     "name": "stdout",
     "output_type": "stream",
     "text": [
      "Enter the first number: 40\n",
      "Enter the second number: 23\n",
      "Enter the third number: 45\n",
      "The maximum number is: 45\n"
     ]
    }
   ],
   "source": [
    "# Example usage with global scope\n",
    "num1 = (input(\"Enter the first number: \"))\n",
    "num2 = (input(\"Enter the second number: \"))\n",
    "num3 = (input(\"Enter the third number: \"))\n",
    "\n",
    "def find_maximum(num1, num2, num3):\n",
    "    maximum = max(num1, num2, num3)\n",
    "    return maximum\n",
    "\n",
    "result = find_maximum(num1, num2, num3)\n",
    "print(\"The maximum number is:\", result)\n"
   ]
  },
  {
   "cell_type": "markdown",
   "id": "75349bc4",
   "metadata": {},
   "source": [
    "# without function"
   ]
  },
  {
   "cell_type": "code",
   "execution_count": 19,
   "id": "b18349b7",
   "metadata": {},
   "outputs": [
    {
     "name": "stdout",
     "output_type": "stream",
     "text": [
      "Enter the first number: 454\n",
      "Enter the second number: 2334\n",
      "Enter the third number: 56\n",
      "The maximum number is: 2334.0\n"
     ]
    }
   ],
   "source": [
    "num1 = float(input(\"Enter the first number: \"))\n",
    "num2 = float(input(\"Enter the second number: \"))\n",
    "num3 = float(input(\"Enter the third number: \"))\n",
    "\n",
    "maximum = max(num1, num2, num3)\n",
    "\n",
    "print(\"The maximum number is:\", maximum)\n"
   ]
  },
  {
   "cell_type": "markdown",
   "id": "390e1f1d",
   "metadata": {},
   "source": [
    "# without input data form user"
   ]
  },
  {
   "cell_type": "code",
   "execution_count": 20,
   "id": "0828aab0",
   "metadata": {},
   "outputs": [
    {
     "name": "stdout",
     "output_type": "stream",
     "text": [
      "The maximum number is: 35\n"
     ]
    }
   ],
   "source": [
    "num1 = 30\n",
    "num2 = 35\n",
    "num3 = 34\n",
    "maximum = max(num1, num2, num3)\n",
    "\n",
    "print(\"The maximum number is:\", maximum)\n"
   ]
  },
  {
   "cell_type": "markdown",
   "id": "97e1ce03",
   "metadata": {},
   "source": [
    "# Write a program to calculate the factorial of a given number."
   ]
  },
  {
   "cell_type": "code",
   "execution_count": 22,
   "id": "f7ec3fcb",
   "metadata": {},
   "outputs": [
    {
     "name": "stdout",
     "output_type": "stream",
     "text": [
      "Enter a number: 3\n",
      "The factorial of 3 is: 6\n"
     ]
    }
   ],
   "source": [
    "def calculate_factorial(number):\n",
    "    factorial = 1\n",
    "    for i in range(1, number + 1):\n",
    "        factorial *= i\n",
    "    return factorial\n",
    "\n",
    "# Example usage\n",
    "num = int(input(\"Enter a number: \"))\n",
    "\n",
    "result = calculate_factorial(num)\n",
    "print(\"The factorial of\", num, \"is:\", result)"
   ]
  },
  {
   "cell_type": "markdown",
   "id": "914b9b17",
   "metadata": {},
   "source": [
    "# without input from user"
   ]
  },
  {
   "cell_type": "code",
   "execution_count": 23,
   "id": "acf9c175",
   "metadata": {},
   "outputs": [
    {
     "name": "stdout",
     "output_type": "stream",
     "text": [
      "Enter a number: 45\n",
      "The factorial of 45 is: 119622220865480194561963161495657715064383733760000000000\n"
     ]
    }
   ],
   "source": [
    "num = int(input(\"Enter a number: \"))\n",
    "\n",
    "factorial = 1\n",
    "\n",
    "for i in range(1, num + 1):\n",
    "    factorial *= i\n",
    "\n",
    "print(\"The factorial of\", num, \"is:\", factorial)\n"
   ]
  },
  {
   "cell_type": "markdown",
   "id": "f785dd5c",
   "metadata": {},
   "source": [
    "# Check if a given number is even. Print True if it is, and False otherwise."
   ]
  },
  {
   "cell_type": "code",
   "execution_count": 24,
   "id": "d33592e7",
   "metadata": {},
   "outputs": [
    {
     "name": "stdout",
     "output_type": "stream",
     "text": [
      "Enter a number: 43\n",
      "False\n"
     ]
    }
   ],
   "source": [
    "number = int(input(\"Enter a number: \"))\n",
    "\n",
    "is_even = number % 2 == 0\n",
    "print(is_even)\n"
   ]
  },
  {
   "cell_type": "code",
   "execution_count": 25,
   "id": "b61129aa",
   "metadata": {},
   "outputs": [
    {
     "name": "stderr",
     "output_type": "stream",
     "text": [
      "<>:2: SyntaxWarning: \"is not\" with a literal. Did you mean \"!=\"?\n",
      "<>:2: SyntaxWarning: \"is not\" with a literal. Did you mean \"!=\"?\n"
     ]
    },
    {
     "name": "stdout",
     "output_type": "stream",
     "text": [
      "Enter a number: 20\n",
      "False\n"
     ]
    },
    {
     "name": "stderr",
     "output_type": "stream",
     "text": [
      "C:\\Users\\amt\\AppData\\Local\\Temp\\ipykernel_6140\\416341578.py:2: SyntaxWarning: \"is not\" with a literal. Did you mean \"!=\"?\n",
      "  is_odd = number % 2 is not 0\n"
     ]
    }
   ],
   "source": [
    "number = int(input(\"Enter a number: \"))\n",
    "is_odd = number % 2 is not 0\n",
    "print(is_odd)\n",
    "#just for checking vai nothing else"
   ]
  },
  {
   "cell_type": "code",
   "execution_count": 28,
   "id": "538ae5e4",
   "metadata": {},
   "outputs": [
    {
     "name": "stdout",
     "output_type": "stream",
     "text": [
      "Enter a number: 33\n",
      "True\n"
     ]
    }
   ],
   "source": [
    "number = int(input(\"Enter a number: \"))\n",
    "is_odd = number % 2 != 0\n",
    "print(is_odd)"
   ]
  },
  {
   "cell_type": "code",
   "execution_count": null,
   "id": "2e550165",
   "metadata": {},
   "outputs": [],
   "source": []
  },
  {
   "cell_type": "markdown",
   "id": "ff22931d",
   "metadata": {},
   "source": [
    "# Determine if a string contains only uppercase letters. Print True if it does, and False otherwise."
   ]
  },
  {
   "cell_type": "code",
   "execution_count": 29,
   "id": "81cd8d2c",
   "metadata": {},
   "outputs": [
    {
     "name": "stdout",
     "output_type": "stream",
     "text": [
      "Enter a string: JAHID\n",
      "True\n"
     ]
    }
   ],
   "source": [
    "string = input(\"Enter a string: \")\n",
    "\n",
    "is_all_uppercase = string.isupper()\n",
    "print(is_all_uppercase)"
   ]
  },
  {
   "cell_type": "code",
   "execution_count": 30,
   "id": "9723e0a5",
   "metadata": {},
   "outputs": [
    {
     "name": "stdout",
     "output_type": "stream",
     "text": [
      "Enter a string: JAHID\n",
      "The string is not lowercase.\n"
     ]
    }
   ],
   "source": [
    "string = input(\"Enter a string: \")\n",
    "\n",
    "if string.islower():\n",
    "    print(\"The string is lowercase.\")\n",
    "else:\n",
    "    print(\"The string is not lowercase.\")"
   ]
  },
  {
   "cell_type": "markdown",
   "id": "ead24f56",
   "metadata": {},
   "source": [
    "# without input form user"
   ]
  },
  {
   "cell_type": "code",
   "execution_count": 31,
   "id": "8a81e8dd",
   "metadata": {},
   "outputs": [
    {
     "name": "stdout",
     "output_type": "stream",
     "text": [
      "it's True this is lowercase\n"
     ]
    }
   ],
   "source": [
    "string = \"jahid\"\n",
    "is_all_lowercase =string.islower()\n",
    "print(\"it's {} this is lowercase\".format(is_all_lowercase))"
   ]
  },
  {
   "cell_type": "code",
   "execution_count": 32,
   "id": "caf978da",
   "metadata": {},
   "outputs": [
    {
     "name": "stdout",
     "output_type": "stream",
     "text": [
      "The string is uppercase.\n"
     ]
    }
   ],
   "source": [
    "string = 'JAHID'\n",
    "\n",
    "if string.isupper():\n",
    "    print(\"The string is uppercase.\")\n",
    "else:\n",
    "    print(\"The string is not uppercase.\")"
   ]
  },
  {
   "cell_type": "markdown",
   "id": "f5daf855",
   "metadata": {},
   "source": [
    "# Given a list of integers, check if any of the numbers are negative. Print True if there is at least one negative number, and False otherwise."
   ]
  },
  {
   "cell_type": "code",
   "execution_count": 37,
   "id": "ddf42aff",
   "metadata": {},
   "outputs": [
    {
     "name": "stdout",
     "output_type": "stream",
     "text": [
      "True\n"
     ]
    }
   ],
   "source": [
    "numbers = [1, 2, 3, -4, 5]\n",
    "\n",
    "has_negative = any(num < 0 for num in numbers)\n",
    "print(has_negative)"
   ]
  },
  {
   "cell_type": "code",
   "execution_count": null,
   "id": "7663a31f",
   "metadata": {},
   "outputs": [],
   "source": []
  },
  {
   "cell_type": "code",
   "execution_count": 40,
   "id": "79b85c3d",
   "metadata": {},
   "outputs": [
    {
     "name": "stdout",
     "output_type": "stream",
     "text": [
      "Enter the first string: jahid\n",
      "Enter the second string: jahid\n",
      "True\n"
     ]
    }
   ],
   "source": [
    "string1 = input(\"Enter the first string: \")\n",
    "string2 = input(\"Enter the second string: \")\n",
    "\n",
    "are_equal_length = len(string1) == len(string2)\n",
    "print(are_equal_length)\n"
   ]
  },
  {
   "cell_type": "markdown",
   "id": "f071a71d",
   "metadata": {},
   "source": [
    "# without input from user"
   ]
  },
  {
   "cell_type": "code",
   "execution_count": 51,
   "id": "904e94e0",
   "metadata": {},
   "outputs": [
    {
     "name": "stdout",
     "output_type": "stream",
     "text": [
      "False\n"
     ]
    }
   ],
   "source": [
    "string1 = \"jahidk\"\n",
    "string2 = 'kabir'\n",
    "if len(string1) == len(string2):\n",
    "    print(\"True\")\n",
    "else:\n",
    "    print(\"False\")  "
   ]
  },
  {
   "cell_type": "code",
   "execution_count": 48,
   "id": "d0f60599",
   "metadata": {},
   "outputs": [
    {
     "name": "stdout",
     "output_type": "stream",
     "text": [
      "True\n"
     ]
    }
   ],
   "source": [
    "string1 = \"jahid\"\n",
    "string2 = \"kabir\"\n",
    "\n",
    "are_equal_length = len(string1) == len(string2)\n",
    "if are_equal_length:\n",
    "    print(\"True\")\n",
    "else:\n",
    "    print(\"False\")"
   ]
  },
  {
   "cell_type": "code",
   "execution_count": null,
   "id": "4eb6567e",
   "metadata": {},
   "outputs": [],
   "source": []
  }
 ],
 "metadata": {
  "kernelspec": {
   "display_name": "Python 3 (ipykernel)",
   "language": "python",
   "name": "python3"
  },
  "language_info": {
   "codemirror_mode": {
    "name": "ipython",
    "version": 3
   },
   "file_extension": ".py",
   "mimetype": "text/x-python",
   "name": "python",
   "nbconvert_exporter": "python",
   "pygments_lexer": "ipython3",
   "version": "3.9.13"
  }
 },
 "nbformat": 4,
 "nbformat_minor": 5
}
